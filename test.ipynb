{
 "metadata": {
  "language_info": {
   "codemirror_mode": {
    "name": "ipython",
    "version": 3
   },
   "file_extension": ".py",
   "mimetype": "text/x-python",
   "name": "python",
   "nbconvert_exporter": "python",
   "pygments_lexer": "ipython3",
   "version": "3.8.10"
  },
  "orig_nbformat": 4,
  "kernelspec": {
   "name": "python3",
   "display_name": "Python 3.8.10 64-bit"
  },
  "interpreter": {
   "hash": "e7370f93d1d0cde622a1f8e1c04877d8463912d04d973331ad4851f04de6915a"
  }
 },
 "nbformat": 4,
 "nbformat_minor": 2,
 "cells": [
  {
   "cell_type": "code",
   "execution_count": null,
   "metadata": {},
   "outputs": [],
   "source": [
    "import subprocess\n",
    "output = subprocess.getoutput('xrandr | grep current')\n",
    "print(output)"
   ]
  },
  {
   "cell_type": "code",
   "execution_count": 23,
   "metadata": {},
   "outputs": [
    {
     "output_type": "stream",
     "name": "stdout",
     "text": [
      "╒══════╤═══════╕\n│ \u001b[48;5;2mauto\u001b[0m │ \u001b[48;5;1mbonus\u001b[0m │\n╘══════╧═══════╛\n\u001b[48;5;1mmanual\u001b[0m\n"
     ]
    }
   ],
   "source": [
    "import tabulate\n",
    "\n",
    "from colored import fore, back, style, stylize, bg\n",
    "\n",
    "red = lambda txt : back.RED+txt+style.RESET\n",
    "\n",
    "print(tabulate.tabulate([[\n",
    "                        stylize('auto', [bg('green')]), \n",
    "                        red('bonus')\n",
    "                        ]], tablefmt='fancy_grid'))\n",
    "print(red('manual'))"
   ]
  },
  {
   "cell_type": "code",
   "execution_count": null,
   "metadata": {},
   "outputs": [],
   "source": [
    "from dataclasses import dataclass, asdict, astuple\n",
    "import json\n",
    "@dataclass\n",
    "class Account():\n",
    "    id: str = None\n",
    "    email: str = None\n",
    "    cookie: str = None\n",
    "    total_rolls: int = 0\n",
    "class State(NamedTuple):\n",
    "    timestamp: str\n",
    "    btc: float\n",
    "    rp: int\n",
    "    bonus: float\n",
    "class MyEncoder(json.JSONEncoder):\n",
    "    def default(self, o):\n",
    "        if isinstance(o, Account):\n",
    "            return asdict(o)\n",
    "        else:\n",
    "            return json.JSONEncoder.default(o)\n",
    "\n",
    "a=Account()\n",
    "al=[a, Account('', 'lol', 'asdasd', 5), State(',', 2.0,5,1.2)]\n",
    "a.total_rolls+=1\n",
    "print(a.__dict__)\n",
    "print(json.dumps(al, indent=1, cls=MyEncoder))"
   ]
  },
  {
   "cell_type": "code",
   "execution_count": null,
   "metadata": {},
   "outputs": [],
   "source": [
    "\n",
    "from bs4 import BeautifulSoup\n",
    "import requests\n",
    "\n",
    "cookie2 = \"__cfduid=df018db9b079168ae9361f82fec5bc2bb1620266270; btc_address=1CJ4vvSJefSpSb3v1k5xnxtEySBD1sBtGU; password=363acd1f069ecf92f61efb54be8072a1eeda3adab881cfc3577ca2661556ee06; have_account=1; login_auth=PcZ0ZH11rmArIQ152kKpwsjf; cookieconsent_dismissed=yes; last_play=1622671419; fbtc_session=hDvF63BWOwt59Q8hsEeovVfk; fbtc_userid=25043400; free_play_sound=1; csrf_token=nMyrr5NbZnfn\"\n",
    "\n",
    "cookie = \"__cfduid=d6d66739ea723b7e7b31e65579f1c23451620345821; have_account=1; login_auth=IpisF3uQjMNRglupS5YgxboO; cookieconsent_dismissed=yes; last_play=1621782731; csrf_token=2ijwVeB3kVxL; btc_address=19bJKkqJdhwKE11UJDkRkNkkvqDrXQArx; password=d87603930f1f4c00426a29ea75923bbf0819161134ac3bb2a82f6829af566fdd\"\n",
    "session = requests.Session()\n",
    "response = session.get('https://freebitco.in', headers={\n",
    "    \"Cookie\": cookie,\n",
    "    \"User-Agent\": \"Mozilla/5.0 (X11; Ubuntu; Linux x86_64; rv:88.0) Gecko/20100101 Firefox/88.0\"\n",
    "})\n",
    "\n",
    "soup = BeautifulSoup(response.text, 'html.parser')\n",
    "print('done')\n"
   ]
  },
  {
   "cell_type": "code",
   "execution_count": null,
   "metadata": {
    "tags": []
   },
   "outputs": [],
   "source": [
    "\n",
    "sels= soup.select(\"span.free_play_bonus_box_span_large\")\n",
    "for sel in sels:\n",
    "    print(sel.text)\n",
    "\n",
    "# sel = soup.select_one(\"div#bonus_container_free_points\")\n",
    "# s = sel.text\n",
    "# print(s)\n",
    "# print(s[s.rfind(',')+1:s.rfind(')})')])"
   ]
  },
  {
   "cell_type": "code",
   "execution_count": null,
   "metadata": {},
   "outputs": [],
   "source": [
    "l=[1,2,3]\n",
    "print(list(range(2,-1, -1)))\n",
    "print(l)"
   ]
  },
  {
   "cell_type": "code",
   "execution_count": null,
   "metadata": {},
   "outputs": [],
   "source": [
    "import datetime\n",
    "day = datetime.datetime.today().date()\n",
    "day2= datetime.datetime(day.year, day.month, day.day+1).date()\n",
    "print(day, day2)\n",
    "print(day2.isoformat()>day.isoformat())"
   ]
  },
  {
   "cell_type": "code",
   "execution_count": null,
   "metadata": {},
   "outputs": [],
   "source": [
    "\n",
    "from typing import NamedTuple\n",
    "import datetime, time, random\n",
    "\n",
    "class ChangeLog(NamedTuple):\n",
    "    timestamp: str\n",
    "    btc: float\n",
    "    rp: int\n",
    "    bonus: float\n",
    "    btc_change: float\n",
    "    rp_change: int\n",
    "    bonus_change: float\n",
    "\n",
    "    # def __str__(self) -> str:\n",
    "    #     return 'ChangeLog({date}, {1:.8f}, {2}, {3:.2f}, {4:.8f}, {5}, {6:.2f})'.format(*self, date=datetime.datetime.fromisoformat(self.timestamp).strftime(\"%H:%m:%M %d-%b-%Y\"))\n",
    "\n",
    "class State(NamedTuple):\n",
    "    pass\n",
    "class State(NamedTuple):\n",
    "    timestamp: str\n",
    "    btc: float\n",
    "    rp: int\n",
    "    bonus: float\n",
    "\n",
    "    def __sub__(self, other : State) -> ChangeLog:\n",
    "        if not isinstance(other, State):\n",
    "            raise TypeError(\"- operatror not defined for \"+ str(type(other)))\n",
    "        if self.timestamp > other.timestamp:\n",
    "            return ChangeLog(self.timestamp, self.btc, self.rp, self.bonus, self.btc-other.btc, self.rp-other.rp, self.bonus-other.bonus)\n",
    "        else:\n",
    "            return ChangeLog(other.timestamp, other.btc, other.rp, other.bonus, other.btc-self.btc, other.rp-self.rp, other.bonus-self.bonus)\n",
    "\n",
    "    \n",
    "\n",
    "s1 = State(datetime.datetime.now().isoformat(), 100, 50, 0.5)\n",
    "time.sleep(random.random())\n",
    "s2 = State(datetime.datetime.now().isoformat(), 105, 54, 0.49)\n",
    "\n",
    "print(s1)\n",
    "print(s2)\n",
    "l1=s1-s2\n",
    "print(l1)#[datetime.datetime.now().isoformat(), 105, 54, 0.49])\n",
    "print(State(*l1[:4]))\n",
    "# help(ChangeLog)"
   ]
  }
 ]
}