{
 "metadata": {
  "language_info": {
   "codemirror_mode": {
    "name": "ipython",
    "version": 3
   },
   "file_extension": ".py",
   "mimetype": "text/x-python",
   "name": "python",
   "nbconvert_exporter": "python",
   "pygments_lexer": "ipython3",
   "version": "3.8.5"
  },
  "orig_nbformat": 4,
  "kernelspec": {
   "name": "python3",
   "display_name": "Python 3.8.5 64-bit"
  },
  "interpreter": {
   "hash": "e7370f93d1d0cde622a1f8e1c04877d8463912d04d973331ad4851f04de6915a"
  }
 },
 "nbformat": 4,
 "nbformat_minor": 2,
 "cells": [
  {
   "cell_type": "code",
   "execution_count": 10,
   "metadata": {},
   "outputs": [],
   "source": [
    "import subprocess\n",
    "output = subprocess.getoutput('xrandr | grep current')"
   ]
  },
  {
   "cell_type": "code",
   "execution_count": 11,
   "metadata": {},
   "outputs": [
    {
     "output_type": "stream",
     "name": "stdout",
     "text": [
      "['Screen 0: minimum 320 x 200', ' current 1366 x 768', ' maximum 16384 x 16384']\n"
     ]
    }
   ],
   "source": [
    "print(output.split(','))"
   ]
  },
  {
   "cell_type": "code",
   "execution_count": 50,
   "metadata": {},
   "outputs": [
    {
     "output_type": "stream",
     "name": "stdout",
     "text": [
      "{'id': None, 'email': None, 'cookie': None, 'total_rolls': 1}\n[\n {\n  \"id\": null,\n  \"email\": null,\n  \"cookie\": null,\n  \"total_rolls\": 1\n },\n {\n  \"id\": \"\",\n  \"email\": \"lol\",\n  \"cookie\": \"asdasd\",\n  \"total_rolls\": 5\n },\n [\n  \",\",\n  2.0,\n  5,\n  1.2\n ]\n]\n"
     ]
    }
   ],
   "source": [
    "from dataclasses import dataclass, asdict, astuple\n",
    "import json\n",
    "@dataclass\n",
    "class Account():\n",
    "    id: str = None\n",
    "    email: str = None\n",
    "    cookie: str = None\n",
    "    total_rolls: int = 0\n",
    "class State(NamedTuple):\n",
    "    timestamp: str\n",
    "    btc: float\n",
    "    rp: int\n",
    "    bonus: float\n",
    "class MyEncoder(json.JSONEncoder):\n",
    "    def default(self, o):\n",
    "        if isinstance(o, Account):\n",
    "            return asdict(o)\n",
    "        else:\n",
    "            return json.JSONEncoder.default(o)\n",
    "\n",
    "a=Account()\n",
    "al=[a, Account('', 'lol', 'asdasd', 5), State(',', 2.0,5,1.2)]\n",
    "a.total_rolls+=1\n",
    "print(a.__dict__)\n",
    "print(json.dumps(al, indent=1, cls=MyEncoder))"
   ]
  },
  {
   "cell_type": "code",
   "execution_count": 52,
   "metadata": {},
   "outputs": [
    {
     "output_type": "stream",
     "name": "stdout",
     "text": [
      "done\n"
     ]
    }
   ],
   "source": [
    "\n",
    "from bs4 import BeautifulSoup\n",
    "import requests\n",
    "\n",
    "cookie2 = \"__cfduid=df018db9b079168ae9361f82fec5bc2bb1620266270; btc_address=1CJ4vvSJefSpSb3v1k5xnxtEySBD1sBtGU; password=363acd1f069ecf92f61efb54be8072a1eeda3adab881cfc3577ca2661556ee06; have_account=1; login_auth=PcZ0ZH11rmArIQ152kKpwsjf; cookieconsent_dismissed=yes; last_play=1622671419; fbtc_session=hDvF63BWOwt59Q8hsEeovVfk; fbtc_userid=25043400; free_play_sound=1; csrf_token=nMyrr5NbZnfn\"\n",
    "\n",
    "cookie = \"__cfduid=d6d66739ea723b7e7b31e65579f1c23451620345821; have_account=1; login_auth=IpisF3uQjMNRglupS5YgxboO; cookieconsent_dismissed=yes; last_play=1621782731; csrf_token=2ijwVeB3kVxL; btc_address=19bJKkqJdhwKE11UJDkRkNkkvqDrXQArx; password=d87603930f1f4c00426a29ea75923bbf0819161134ac3bb2a82f6829af566fdd\"\n",
    "session = requests.Session()\n",
    "response = session.get('https://freebitco.in', headers={\n",
    "    \"Cookie\": cookie,\n",
    "    \"User-Agent\": \"Mozilla/5.0 (X11; Ubuntu; Linux x86_64; rv:88.0) Gecko/20100101 Firefox/88.0\"\n",
    "})\n",
    "\n",
    "soup = BeautifulSoup(response.text, 'html.parser')\n",
    "print('done')\n"
   ]
  },
  {
   "cell_type": "code",
   "execution_count": 53,
   "metadata": {
    "tags": []
   },
   "outputs": [
    {
     "output_type": "stream",
     "name": "stdout",
     "text": [
      "100 extra reward points\n\n+0.00000114 BTC\n+0.00000006 BTC\n"
     ]
    }
   ],
   "source": [
    "\n",
    "sels= soup.select(\"span.free_play_bonus_box_span_large\")\n",
    "for sel in sels:\n",
    "    print(sel.text)\n",
    "\n",
    "# sel = soup.select_one(\"div#bonus_container_free_points\")\n",
    "# s = sel.text\n",
    "# print(s)\n",
    "# print(s[s.rfind(',')+1:s.rfind(')})')])"
   ]
  },
  {
   "cell_type": "code",
   "execution_count": 66,
   "metadata": {},
   "outputs": [
    {
     "output_type": "stream",
     "name": "stdout",
     "text": [
      "[2, 1, 0]\n[1, 2, 3]\n"
     ]
    }
   ],
   "source": [
    "l=[1,2,3]\n",
    "print(list(range(2,-1, -1)))\n",
    "print(l)"
   ]
  },
  {
   "cell_type": "code",
   "execution_count": 2,
   "metadata": {},
   "outputs": [
    {
     "output_type": "stream",
     "name": "stdout",
     "text": [
      "2021-06-27 2021-06-28\nTrue\n"
     ]
    }
   ],
   "source": [
    "import datetime\n",
    "day = datetime.datetime.today().date()\n",
    "day2= datetime.datetime(day.year, day.month, day.day+1).date()\n",
    "print(day, day2)\n",
    "print(day2.isoformat()>day.isoformat())"
   ]
  },
  {
   "cell_type": "code",
   "execution_count": 34,
   "metadata": {},
   "outputs": [
    {
     "output_type": "stream",
     "name": "stdout",
     "text": [
      "State(timestamp='2021-06-26T22:16:08.072591', btc=100, rp=50, bonus=0.5)\nState(timestamp='2021-06-26T22:16:08.352032', btc=105, rp=54, bonus=0.49)\nChangeLog(timestamp='2021-06-26T22:16:08.352032', btc=105, rp=54, bonus=0.49, btc_change=5, rp_change=4, bonus_change=-0.010000000000000009)\nState(timestamp='2021-06-26T22:16:08.352032', btc=105, rp=54, bonus=0.49)\n"
     ]
    }
   ],
   "source": [
    "\n",
    "from typing import NamedTuple\n",
    "import datetime, time, random\n",
    "\n",
    "class ChangeLog(NamedTuple):\n",
    "    timestamp: str\n",
    "    btc: float\n",
    "    rp: int\n",
    "    bonus: float\n",
    "    btc_change: float\n",
    "    rp_change: int\n",
    "    bonus_change: float\n",
    "\n",
    "    # def __str__(self) -> str:\n",
    "    #     return 'ChangeLog({date}, {1:.8f}, {2}, {3:.2f}, {4:.8f}, {5}, {6:.2f})'.format(*self, date=datetime.datetime.fromisoformat(self.timestamp).strftime(\"%H:%m:%M %d-%b-%Y\"))\n",
    "\n",
    "class State(NamedTuple):\n",
    "    pass\n",
    "class State(NamedTuple):\n",
    "    timestamp: str\n",
    "    btc: float\n",
    "    rp: int\n",
    "    bonus: float\n",
    "\n",
    "    def __sub__(self, other : State) -> ChangeLog:\n",
    "        if not isinstance(other, State):\n",
    "            raise TypeError(\"- operatror not defined for \"+ str(type(other)))\n",
    "        if self.timestamp > other.timestamp:\n",
    "            return ChangeLog(self.timestamp, self.btc, self.rp, self.bonus, self.btc-other.btc, self.rp-other.rp, self.bonus-other.bonus)\n",
    "        else:\n",
    "            return ChangeLog(other.timestamp, other.btc, other.rp, other.bonus, other.btc-self.btc, other.rp-self.rp, other.bonus-self.bonus)\n",
    "\n",
    "    \n",
    "\n",
    "s1 = State(datetime.datetime.now().isoformat(), 100, 50, 0.5)\n",
    "time.sleep(random.random())\n",
    "s2 = State(datetime.datetime.now().isoformat(), 105, 54, 0.49)\n",
    "\n",
    "print(s1)\n",
    "print(s2)\n",
    "l1=s1-s2\n",
    "print(l1)#[datetime.datetime.now().isoformat(), 105, 54, 0.49])\n",
    "print(State(*l1[:4]))\n",
    "# help(ChangeLog)"
   ]
  }
 ]
}